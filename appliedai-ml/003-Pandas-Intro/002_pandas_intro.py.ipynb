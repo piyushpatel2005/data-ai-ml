{
 "cells": [
  {
   "cell_type": "code",
   "execution_count": 9,
   "metadata": {
    "colab": {},
    "colab_type": "code",
    "id": "9YOJF4IfmVMR",
    "outputId": "d6dab74e-a866-426a-c314-fb4521f16613",
    "scrolled": true
   },
   "outputs": [
    {
     "name": "stdout",
     "output_type": "stream",
     "text": [
      "['1/1/2016', '38', '23', '52', '30.03', '10', '8', '0', '5', '', '281']\n",
      "['1/2/2016', '36', '18', '46', '30.02', '10', '7', '0', '3', '', '275']\n",
      "['1/3/2016', '40', '21', '47', '29.86', '10', '8', '0', '1', '', '277']\n",
      "['1/4/2016', '25', '9', '44', '30.05', '10', '9', '0', '3', '', '345']\n",
      "['1/5/2016', '20', '-3', '41', '30.57', '10', '5', '0', '0', '', '333']\n",
      "['1/6/2016', '33', '4', '35', '30.5', '10', '4', '0', '0', '', '259']\n",
      "['1/7/2016', '39', '11', '33', '30.28', '10', '2', '0', '3', '', '293']\n",
      "['1/8/2016', '39', '29', '64', '30.2', '10', '4', '0', '8', '', '79']\n",
      "['1/9/2016', '44', '38', '77', '30.16', '9', '8', 'T', '8', 'Rain', '76']\n",
      "['1/10/2016', '50', '46', '71', '29.59', '4', '', '1.8', '7', 'Rain', '109']\n",
      "['1/11/2016', '33', '8', '37', '29.92', '10', '', '0', '1', '', '289']\n",
      "['1/12/2016', '35', '15', '53', '29.85', '10', '6', 'T', '4', '', '235']\n",
      "['1/13/2016', '26', '4', '42', '29.94', '10', '10', '0', '0', '', '284']\n",
      "['1/14/2016', '30', '12', '47', '29.95', '10', '5', 'T', '7', '', '266']\n",
      "['1/15/2016', '43', '31', '62', '29.82', '9', '5', 'T', '2', '', '101']\n",
      "['1/16/2016', '47', '37', '70', '29.52', '8', '7', '0.24', '7', 'Rain', '340']\n",
      "['1/17/2016', '36', '23', '66', '29.78', '8', '6', '0.05', '6', 'Fog-Snow', '345']\n",
      "['1/18/2016', '25', '6', '53', '29.83', '9', '12', 'T', '2', 'Snow', '293']\n",
      "['1/19/2016', '22', '3', '42', '30.03', '10', '11', '0', '1', '', '293']\n",
      "['1/20/2016', '32', '15', '49', '30.13', '10', '6', '0', '2', '', '302']\n",
      "['1/21/2016', '31', '11', '45', '30.15', '10', '6', '0', '1', '', '312']\n",
      "['1/22/2016', '26', '6', '41', '30.21', '9', '', '0.01', '3', 'Snow', '34']\n",
      "['1/23/2016', '26', '21', '78', '29.77', '1', '16', '2.31', '8', 'Fog-Snow', '42']\n",
      "['1/24/2016', '28', '11', '53', '29.92', '8', '6', 'T', '3', 'Snow', '327']\n",
      "['1/25/2016', '34', '18', '54', '30.25', '10', '3', '0', '2', '', '286']\n",
      "['1/26/2016', '43', '29', '56', '30.03', '10', '7', '0', '2', '', '244']\n",
      "['1/27/2016', '41', '22', '45', '30.03', '10', '7', 'T', '3', 'Rain', '311']\n",
      "['1/28/2016', '37', '20', '51', '29.9', '10', '5', '0', '1', '', '234']\n",
      "['1/29/2016', '36', '21', '50', '29.58', '10', '8', '0', '4', '', '298']\n",
      "['1/30/2016', '34', '16', '46', '30.01', '10', '7', '0', '0', '', '257']\n",
      "['1/31/2016', '46', '28', '52', '29.9', '10', '5', '0', '0', '', '241']\n",
      "Max Temperature is : 50\n",
      "Days of rain : ['1/9/2016', '1/10/2016', '1/16/2016', '1/27/2016']\n",
      "Average wind speed is : 6.225806451612903\n"
     ]
    }
   ],
   "source": [
    "_parsed_rows = []\n",
    "\n",
    "def parse_csv():\n",
    "    import csv\n",
    "    _file_path = \"nyc_weather.csv\"\n",
    "\n",
    "    global _parsed_rows\n",
    "    with open(_file_path, \"r\") as f:\n",
    "        reader = csv.reader(f, delimiter=',')\n",
    "        next(reader)\n",
    "        for row in reader:\n",
    "            print(row)\n",
    "            _parsed_rows.append({\n",
    "                'date':  row[0],\n",
    "                'temperature': row[1],\n",
    "                'DewPoint': row[2],\n",
    "                'Humidity': row[3],\n",
    "                'Sea_Level_PressureIn': row[4],\n",
    "                'VisibilityMiles': row[5],\n",
    "                'WindSpeedMPH': row[6],\n",
    "                'PrecipitationIn': row[7],\n",
    "                'CloudCover': row[8],\n",
    "                'Events': row[9],\n",
    "                'WindDirDegrees': row[10]\n",
    "            })\n",
    "            \n",
    "def get_max_temperature():\n",
    "    max_temp = 0\n",
    "    for row in _parsed_rows:\n",
    "        if int(row['temperature']) > max_temp:\n",
    "            max_temp = int(row['temperature'])\n",
    "    return max_temp\n",
    "\n",
    "def get_days_of_rain(event):\n",
    "    days = []\n",
    "    for row in _parsed_rows:\n",
    "        if row['Events'] == event:\n",
    "            days.append(row['date'])\n",
    "    return days\n",
    "\n",
    "def get_avg_wind_speed():\n",
    "    total = 0\n",
    "    count = 0\n",
    "    for row in _parsed_rows:\n",
    "        speed = 0 if row['WindSpeedMPH']=='' else int(row['WindSpeedMPH'])\n",
    "        total += speed\n",
    "        count += 1\n",
    "    return float(total/count)\n",
    "\n",
    "if __name__ == '__main__':\n",
    "    parse_csv()\n",
    "    \n",
    "    print (\"Max Temperature is : \" + str(get_max_temperature()))\n",
    "    print (\"Days of rain : \" + str(get_days_of_rain('Rain')))\n",
    "    print (\"Average wind speed is : \" + str(get_avg_wind_speed()))"
   ]
  },
  {
   "cell_type": "code",
   "execution_count": null,
   "metadata": {
    "colab": {},
    "colab_type": "code",
    "id": "9-9zh0ldmVMb"
   },
   "outputs": [],
   "source": []
  }
 ],
 "metadata": {
  "colab": {
   "name": "pandas_intro.py.ipynb",
   "provenance": []
  },
  "kernelspec": {
   "display_name": "Python 3 (ipykernel)",
   "language": "python",
   "name": "python3"
  },
  "language_info": {
   "codemirror_mode": {
    "name": "ipython",
    "version": 3
   },
   "file_extension": ".py",
   "mimetype": "text/x-python",
   "name": "python",
   "nbconvert_exporter": "python",
   "pygments_lexer": "ipython3",
   "version": "3.13.5"
  }
 },
 "nbformat": 4,
 "nbformat_minor": 4
}
